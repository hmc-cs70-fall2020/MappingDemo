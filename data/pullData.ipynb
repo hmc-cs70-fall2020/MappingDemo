{
 "cells": [
  {
   "cell_type": "markdown",
   "id": "ccc2abf7-69a9-4a24-a74d-de6bc07887af",
   "metadata": {
    "tags": []
   },
   "source": [
    "!pip install sodapy"
   ]
  },
  {
   "cell_type": "code",
   "execution_count": 1,
   "id": "12e599af-f423-4474-961e-81e0e1115302",
   "metadata": {},
   "outputs": [],
   "source": [
    "import pandas as pd\n",
    "from sodapy import Socrata"
   ]
  },
  {
   "cell_type": "code",
   "execution_count": 90,
   "id": "2afa67e1-8655-41e7-903f-29fca91d8334",
   "metadata": {},
   "outputs": [
    {
     "name": "stderr",
     "output_type": "stream",
     "text": [
      "WARNING:root:Requests made without an app_token will be subject to strict throttling limits.\n"
     ]
    }
   ],
   "source": [
    "client = Socrata(\"data.lacounty.gov\", None)"
   ]
  },
  {
   "cell_type": "code",
   "execution_count": 104,
   "id": "e273b847-07cf-42fb-aace-f79116e90218",
   "metadata": {},
   "outputs": [],
   "source": [
    "client.timeout = 1000"
   ]
  },
  {
   "cell_type": "code",
   "execution_count": 98,
   "id": "933d231d-dfac-4773-8cef-9737be514ba3",
   "metadata": {},
   "outputs": [],
   "source": [
    "results = client.get(\"9trm-uz8i\", limit=limit, offset=offset)\n",
    "main_df = pd.DataFrame.from_records(results)"
   ]
  },
  {
   "cell_type": "code",
   "execution_count": 105,
   "id": "457bbafa-dfdc-416f-9764-5165746134aa",
   "metadata": {},
   "outputs": [],
   "source": [
    "offset = 0"
   ]
  },
  {
   "cell_type": "code",
   "execution_count": 106,
   "id": "385ea3e2-604c-4d90-a219-ce075d49736e",
   "metadata": {},
   "outputs": [],
   "source": [
    "limit = 1000"
   ]
  },
  {
   "cell_type": "code",
   "execution_count": 107,
   "id": "dd40229c-00d5-4b78-9b59-1925b6bca4b2",
   "metadata": {},
   "outputs": [],
   "source": [
    "frames = []"
   ]
  },
  {
   "cell_type": "code",
   "execution_count": null,
   "id": "297056a9-dd7d-44ae-82fd-93b7f0250582",
   "metadata": {},
   "outputs": [],
   "source": [
    "while True:\n",
    "    results = client.get(\"9trm-uz8i\", limit=limit, offset=offset)\n",
    "    res_df = pd.DataFrame.from_records(results)\n",
    "    if res_df.empty == True:\n",
    "        break\n",
    "    frames.append(res_df)\n",
    "    offset += limit\n",
    "\n",
    "main_df = pd.concat(frames)"
   ]
  },
  {
   "cell_type": "code",
   "execution_count": 24,
   "id": "da4b3f03-cec0-47ff-bdc6-b19ad0a1591d",
   "metadata": {},
   "outputs": [],
   "source": [
    "new_df = results_df.query('istaxableparcel == \"Y\" & usecodedescchar1 == \"Commercial\"')"
   ]
  }
 ],
 "metadata": {
  "kernelspec": {
   "display_name": "Python 3",
   "language": "python",
   "name": "python3"
  },
  "language_info": {
   "codemirror_mode": {
    "name": "ipython",
    "version": 3
   },
   "file_extension": ".py",
   "mimetype": "text/x-python",
   "name": "python",
   "nbconvert_exporter": "python",
   "pygments_lexer": "ipython3",
   "version": "3.8.10"
  }
 },
 "nbformat": 4,
 "nbformat_minor": 5
}
