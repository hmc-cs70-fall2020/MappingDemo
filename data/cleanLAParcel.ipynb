{
 "cells": [
  {
   "cell_type": "code",
   "execution_count": 21,
   "metadata": {},
   "outputs": [
    {
     "name": "stdout",
     "output_type": "stream",
     "text": [
      "(16, 51)\n"
     ]
    }
   ],
   "source": [
    "import pandas as pd\n",
    "\n",
    "df = pd.read_csv(r'Assessor_Parcels_Data_-_2006_thru_2021.csv')"
   ]
  },
  {
   "cell_type": "code",
   "execution_count": 55,
   "metadata": {},
   "outputs": [
    {
     "name": "stdout",
     "output_type": "stream",
     "text": [
      "       ZIPcode  RollYear  TaxRateArea    AssessorID  \\\n",
      "15  91744-4260      2021         5613  8262-007-076   \n",
      "\n",
      "                        PropertyLocation PropertyType  SQFTmain  LandValue  \\\n",
      "15  525 N AZUSA AVE  LA PUENTE CA  91744          C/I     22517  2515385.0   \n",
      "\n",
      "    LandBaseYear  ImprovementValue  ImpBaseYear  TotalLandImpValue  \\\n",
      "15          2016         1640468.0         2016          4155853.0   \n",
      "\n",
      "    TotalValue  netTaxableValue  \n",
      "15   4155853.0        4155853.0  \n"
     ]
    }
   ],
   "source": [
    "# clean data\n",
    "rows_to_keep = [\"ZIPcode\", \"RollYear\", \"TaxRateArea\", \"AssessorID\", \"PropertyLocation\", \n",
    "               \"PropertyType\", \"GeneralUseType\", \"SQFTmain\", \"LandValue\", \"LandBaseYear\", \n",
    "              \"ImprovementValue\", \"ImpBaseYear\", \"TotalLandImpValue\", \"isTaxableParcel?\",\n",
    "              \"TotalValue\", \"netTaxableValue\"]\n",
    "filtered_df = df[rows_to_keep]\n",
    "\n",
    "filtered_df = filtered_df.rename(columns={'isTaxableParcel?':'isTaxableParcel'})\n",
    "filtered_df = filtered_df.query('isTaxableParcel == \"Y\" & GeneralUseType == \"Commercial\"')\n",
    "filtered_df = filtered_df.drop(['isTaxableParcel', 'GeneralUseType'], 1)\n",
    "\n",
    "# aggregate df by ID to latest property value\n",
    "agg_df = filtered_df.sort_values(['AssessorID','RollYear'],ascending=False)\n",
    "agg_df = agg_df.groupby('AssessorID').ffill().drop_duplicates('AssessorID', keep='first')\n",
    "print(agg_df.head(10))"
   ]
  },
  {
   "cell_type": "code",
   "execution_count": 43,
   "metadata": {},
   "outputs": [
    {
     "name": "stdout",
     "output_type": "stream",
     "text": [
      "       City  Date ID\n",
      "0  New York     1  A\n",
      "1   Chicago     4  B\n",
      "2   Toronto     3  A\n",
      "3      None     3  B\n",
      "4       Rio     2  B\n",
      "<pandas.core.groupby.DataFrameGroupBy object at 0x117a55d30>\n",
      "       City  Date ID\n",
      "0  New York     1  A\n",
      "4       Rio     2  B\n"
     ]
    }
   ],
   "source": [
    "# test block/df\n",
    "\n",
    "sr = pd.DataFrame({'City': ['New York', 'Chicago', 'Toronto', None, 'Rio'], \n",
    "                   'ID': ['A', 'B', 'A', 'B', 'B'],\n",
    "                  'Date': [1, 4, 3, 3, 2]\n",
    "                  })\n",
    "print(sr)\n",
    "\n",
    "sr = sr.sort_values(['ID','Date'],ascending=True)\n",
    "print(sr)\n",
    "sr = sr.groupby('ID').ffill().drop_duplicates('ID', keep='first')\n",
    "print(sr)"
   ]
  },
  {
   "cell_type": "code",
   "execution_count": null,
   "metadata": {
    "collapsed": true
   },
   "outputs": [],
   "source": []
  },
  {
   "cell_type": "code",
   "execution_count": null,
   "metadata": {
    "collapsed": true
   },
   "outputs": [],
   "source": []
  }
 ],
 "metadata": {
  "kernelspec": {
   "display_name": "Python 3",
   "language": "python",
   "name": "python3"
  },
  "language_info": {
   "codemirror_mode": {
    "name": "ipython",
    "version": 3
   },
   "file_extension": ".py",
   "mimetype": "text/x-python",
   "name": "python",
   "nbconvert_exporter": "python",
   "pygments_lexer": "ipython3",
   "version": "3.6.1"
  }
 },
 "nbformat": 4,
 "nbformat_minor": 2
}
